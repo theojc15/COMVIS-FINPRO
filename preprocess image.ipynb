{
 "cells": [
  {
   "cell_type": "markdown",
   "id": "c811c16d",
   "metadata": {},
   "source": [
    "## Preprocess Image"
   ]
  },
  {
   "cell_type": "code",
   "execution_count": 1,
   "id": "0d76b117",
   "metadata": {},
   "outputs": [],
   "source": [
    "import cv2\n",
    "import mediapipe as mp\n",
    "from mediapipe.python.solutions.drawing_utils import _normalized_to_pixel_coordinates\n",
    "\n",
    "mp_drawing = mp.solutions.drawing_utils\n",
    "mp_drawing_styles = mp.solutions.drawing_styles\n",
    "mp_hands = mp.solutions.hands"
   ]
  },
  {
   "cell_type": "code",
   "execution_count": 2,
   "id": "44384949",
   "metadata": {},
   "outputs": [],
   "source": [
    "def get_bbox_coordinates(handLadmark, image_shape):\n",
    "\n",
    "    all_x, all_y = [], []\n",
    "    for hnd in mp_hands.HandLandmark:\n",
    "        all_x.append(int(handLadmark.landmark[hnd].x * image_shape[1]))\n",
    "        all_y.append(int(handLadmark.landmark[hnd].y * image_shape[0]))\n",
    "\n",
    "    return min(all_x), min(all_y), max(all_x), max(all_y)"
   ]
  },
  {
   "cell_type": "code",
   "execution_count": 3,
   "id": "0a71bd91",
   "metadata": {},
   "outputs": [],
   "source": [
    "import os\n",
    "train_path = './Dataset/train/'\n",
    "classes = []\n",
    "for index, label in enumerate(os.listdir(train_path)) :\n",
    "    classes.append(label)"
   ]
  },
  {
   "cell_type": "code",
   "execution_count": 4,
   "id": "77f26ad6",
   "metadata": {},
   "outputs": [],
   "source": [
    "with mp.solutions.hands.Hands(\n",
    "    static_image_mode=True,\n",
    "    max_num_hands=1,\n",
    "    min_detection_confidence=0.5) as hands:\n",
    "    for label in classes :\n",
    "        full_path = f'{train_path}/{label}/'\n",
    "        os.makedirs(f'PREPROCESSED/train/{label}/')\n",
    "        for idx, file in enumerate(os.listdir(full_path)):\n",
    "            image = cv2.flip(cv2.imread(f'{full_path}/{file}'), 1)\n",
    "            \n",
    "            results = hands.process(cv2.cvtColor(image, cv2.COLOR_BGR2RGB))\n",
    "            if not results.multi_hand_landmarks:\n",
    "                continue\n",
    "            image_height, image_width, _ = image.shape\n",
    "            \n",
    "            for hand_no, hand_landmarks in enumerate(results.multi_hand_landmarks):\n",
    "            \n",
    "                xmin, ymin, xmax, ymax = get_bbox_coordinates(hand_landmarks, image.shape)\n",
    "\n",
    "                image_crop = image[ymin-30:ymax+30, xmin-30:xmax+30]\n",
    "                cv2.imwrite(f'PREPROCESSED/train/{label}/{file}', image_crop)"
   ]
  },
  {
   "cell_type": "code",
   "execution_count": 5,
   "id": "e357b55a",
   "metadata": {},
   "outputs": [],
   "source": [
    "import os\n",
    "train_path = './Dataset/test/'\n",
    "classes = []\n",
    "for index, label in enumerate(os.listdir(train_path)) :\n",
    "    classes.append(label)"
   ]
  },
  {
   "cell_type": "code",
   "execution_count": 6,
   "id": "da4d6b09",
   "metadata": {},
   "outputs": [],
   "source": [
    "with mp.solutions.hands.Hands(\n",
    "    static_image_mode=True,\n",
    "    max_num_hands=1,\n",
    "    min_detection_confidence=0.5) as hands:\n",
    "    for label in classes :\n",
    "        full_path = f'{train_path}/{label}/'\n",
    "        os.makedirs(f'PREPROCESSED/test/{label}/')\n",
    "        for idx, file in enumerate(os.listdir(full_path)):\n",
    "            image = cv2.flip(cv2.imread(f'{full_path}/{file}'), 1)\n",
    "            \n",
    "            results = hands.process(cv2.cvtColor(image, cv2.COLOR_BGR2RGB))\n",
    "            if not results.multi_hand_landmarks:\n",
    "                continue\n",
    "            image_height, image_width, _ = image.shape\n",
    "            \n",
    "            for hand_no, hand_landmarks in enumerate(results.multi_hand_landmarks):\n",
    "            \n",
    "                xmin, ymin, xmax, ymax = get_bbox_coordinates(hand_landmarks, image.shape)\n",
    "\n",
    "                image_crop = image[ymin-30:ymax+30, xmin-30:xmax+30]\n",
    "                cv2.imwrite(f'PREPROCESSED/test/{label}/{file}', image_crop)"
   ]
  },
  {
   "cell_type": "code",
   "execution_count": null,
   "id": "b7b900f2",
   "metadata": {},
   "outputs": [],
   "source": []
  }
 ],
 "metadata": {
  "kernelspec": {
   "display_name": "Python 3 (ipykernel)",
   "language": "python",
   "name": "python3"
  },
  "language_info": {
   "codemirror_mode": {
    "name": "ipython",
    "version": 3
   },
   "file_extension": ".py",
   "mimetype": "text/x-python",
   "name": "python",
   "nbconvert_exporter": "python",
   "pygments_lexer": "ipython3",
   "version": "3.9.13"
  }
 },
 "nbformat": 4,
 "nbformat_minor": 5
}
